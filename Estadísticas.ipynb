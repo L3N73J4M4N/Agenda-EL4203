{
  "nbformat": 4,
  "nbformat_minor": 0,
  "metadata": {
    "colab": {
      "provenance": []
    },
    "kernelspec": {
      "name": "python3",
      "display_name": "Python 3"
    },
    "language_info": {
      "name": "python"
    }
  },
  "cells": [
    {
      "cell_type": "markdown",
      "source": [
        "# Implementación de las clases para Agenda\n",
        "### Programación Avanzada - EL4203\n",
        "### Matías Carvajal P."
      ],
      "metadata": {
        "id": "rbTgSL1QtapP"
      }
    },
    {
      "cell_type": "markdown",
      "source": [
        "## 1. Clase `Contact`\n",
        "Corresponde a la clase que tendrá cada contacto en la agenda. Contiene los atributos del contacto en un diccionario `atributes` y identidad `identity` que define al contacto, compuesta por su nombre completo incluyendo apellidos. Para inicializarla se requiere los siguientes datos de la persona: sus nombres `name`, sus apellidos `last_name`, su dirección email `mail` y su número de célular `number`.\n",
        "* El método `show()` muestra los atributos de la persona .\n",
        "* El método `add(key, value)` agrega un nuevo atributo `key` con valor `value`."
      ],
      "metadata": {
        "id": "YCEtwMPcFteG"
      }
    },
    {
      "cell_type": "code",
      "execution_count": 1,
      "metadata": {
        "id": "8GP5hjQfu92g"
      },
      "outputs": [],
      "source": [
        "class Contact:\n",
        "    def __init__(self,\n",
        "                 name: str,\n",
        "                 last_name: str,\n",
        "                 mail: str,\n",
        "                 number: str):\n",
        "        self.atributes = {'name': name,\n",
        "                          'last_name': last_name,\n",
        "                          'mail': mail,\n",
        "                          'number': number}\n",
        "        self.identity = name + ' ' + last_name\n",
        "\n",
        "    def show(self):\n",
        "        for key in self.atributes:\n",
        "            print(key + ':', self.atributes[key])\n",
        "\n",
        "    def add(self, key: str, value):\n",
        "        self.atributes[key] = value"
      ]
    },
    {
      "cell_type": "markdown",
      "source": [
        "### Ejemplos"
      ],
      "metadata": {
        "id": "sIyI4e75G4s_"
      }
    },
    {
      "cell_type": "code",
      "source": [
        "matias = Contact('Matías', 'Carvajal', 'corre_de_ejemplo@gmail.com' ,'+56 9 1234 5678')\n",
        "matias.add('instagram', '@soy_un_instagram')\n",
        "matias.add('otros', 'estudiante del curso EL4203')\n",
        "matias.show()"
      ],
      "metadata": {
        "colab": {
          "base_uri": "https://localhost:8080/"
        },
        "id": "6u4Cl2eow6Mt",
        "outputId": "06615560-d633-476a-ca25-8bfdcb8ffdab"
      },
      "execution_count": 9,
      "outputs": [
        {
          "output_type": "stream",
          "name": "stdout",
          "text": [
            "name: Matías\n",
            "last_name: Carvajal\n",
            "mail: corre_de_ejemplo@gmail.com\n",
            "number: +56 9 1234 5678\n",
            "instagram: @soy_un_instagram\n",
            "otros: estudiante del curso EL4203\n"
          ]
        }
      ]
    },
    {
      "cell_type": "code",
      "source": [
        "martina = Contact('Martina', 'Cage', 'martina.ejemplo@gmail.com' ,'+56 9 1111 4444')\n",
        "martina.add('instagram', '@marti_cage')\n",
        "martina.add('otros', 'estudiante de historia')\n",
        "martina.show()"
      ],
      "metadata": {
        "colab": {
          "base_uri": "https://localhost:8080/"
        },
        "id": "gPWHzqowoXgl",
        "outputId": "39fe90d1-48ae-419f-88a5-bf298dc0f3e4"
      },
      "execution_count": 11,
      "outputs": [
        {
          "output_type": "stream",
          "name": "stdout",
          "text": [
            "name: Martina\n",
            "last_name: Cage\n",
            "mail: martina.ejemplo@gmail.com\n",
            "number: +56 9 1111 4444\n",
            "instagram: @marti_cage\n",
            "otros: estudiante de historia\n"
          ]
        }
      ]
    },
    {
      "cell_type": "code",
      "source": [
        "jennifer = Contact('Jennifer', 'Tapia', 'j.tap@gmail.com', '+56 9 2222 4444')\n",
        "jennifer.show()"
      ],
      "metadata": {
        "colab": {
          "base_uri": "https://localhost:8080/"
        },
        "id": "sMH4_tFgrjn0",
        "outputId": "c25a182e-89ff-4d11-d65c-dd50a11f78ec"
      },
      "execution_count": 10,
      "outputs": [
        {
          "output_type": "stream",
          "name": "stdout",
          "text": [
            "name: Jennifer\n",
            "last_name: Tapia\n",
            "mail: j.tap@gmail.com\n",
            "number: +56 9 2222 4444\n"
          ]
        }
      ]
    },
    {
      "cell_type": "markdown",
      "source": [
        "## 2. Clase `Agenda`\n",
        "Corresponde a la clase de la agenda, la que contiene un diccionario `contacts` con los contactos y el número de contactos `num_contacts`. Entre los métodos que tiene, se encuentran:\n",
        "* `add`: recibe un contacto (de tipo `Contact`) y lo agrega a la agenda definiendo su llave como su `identity`. Retorna `True` si lo logra con exito y `False` si el contacto ya estaba en la agenda (y, por tanto, no lo agregó).\n",
        "* `remove`: recibe una `identity` y elimina el contacto correspondiente. Retorna `False` si el contacto no estaba; y `True` si lo eliminó.\n",
        "* `show`: recibe una `identity` y la muestra (junto a sus atributos) en caso de existir. Retorna el contacto; en caso de no existir retorna `None`.\n",
        "* `search`: recibe un `string`, el que puede ser una `identity` o el valor de un `atribute`; y el valor de `atribute` a buscar en caso de requerirlo. Por defecto, busca una `identity` y `atribute` es `None`. Retorna una lista con las `identity` de los contactos encontrados.\n",
        "* `sort`: recibe un `atribute` y ordena los contactos de acuerdo a él. En caso de ser `None`, los ordena según sus `identity`. Retorna nada.\n",
        "* `show_all`: muestra las `identity` de todos los contactos. Retorna y recibe nada."
      ],
      "metadata": {
        "id": "I1tU9qJlGvkV"
      }
    },
    {
      "cell_type": "code",
      "source": [
        "class Agenda:\n",
        "    def __init__(self):\n",
        "        self.contacts = {}\n",
        "        self.num_contacts = 0\n",
        "\n",
        "    def add(self, contact: Contact):\n",
        "        if self.contacts.get(contact.identity) is None:\n",
        "            self.contacts[contact.identity] = contact\n",
        "        else:\n",
        "            print('El contacto ' + contact.identity + ' ya está en la agenda')\n",
        "            return False\n",
        "        print('Agregado ' + contact.identity)\n",
        "        self.num_contacts += 1\n",
        "        return True\n",
        "\n",
        "    def remove(self, key: str):\n",
        "        try:\n",
        "            contact = self.contacts.pop(key)\n",
        "        except KeyError:\n",
        "            print('El contacto no está en la agenda')\n",
        "            return False\n",
        "        print('Eliminado ' + contact.identity)\n",
        "        self.num_contacts -= 1\n",
        "        return True\n",
        "\n",
        "    def show(self, key: str):\n",
        "        contact = self.contacts.get(key)\n",
        "        if contact is None:\n",
        "            print('El contacto no está en la agenda')\n",
        "        else:\n",
        "            contact.show()\n",
        "        return contact\n",
        "\n",
        "    def search(self, key_search: str, atribute=None):\n",
        "        n = len(key_search)\n",
        "        if atribute is not None:\n",
        "            keys_finds = [key for key, contact in self.contacts.items() if len(contact.atributes.get(atribute)) >= n\n",
        "                          and contact.atributes.get(atribute)[: n].lower() == key_search.lower()]\n",
        "            return keys_finds if len(keys_finds) != 1 else keys_finds[0]\n",
        "        keys_finds = []\n",
        "        for key in self.contacts:\n",
        "            if len(key) >= n and key[: n].lower() == key_search.lower():\n",
        "                keys_finds.append(key)\n",
        "                print(key)\n",
        "        return keys_finds if len(keys_finds) != 1 else keys_finds[0]\n",
        "\n",
        "    def sort(self, atribute=None):\n",
        "        if atribute is None:\n",
        "            self.contacts = dict(sorted(self.contacts.items()))\n",
        "            return\n",
        "        self.contacts = dict(sorted(self.contacts.items(), key=lambda item: item[1].atributes.get(atribute, chr(0x10FFFF))))\n",
        "\n",
        "    def show_all(self):\n",
        "        for key in self.contacts:\n",
        "            print(key)\n",
        "\n",
        "\n",
        "    def copy(self):\n",
        "        copy = Agenda()\n",
        "        copy.contacts = self.contacts.copy()\n",
        "        copy.num_contacts = self.num_contacts\n",
        "        return copy"
      ],
      "metadata": {
        "id": "kAyjYyiCyrsZ"
      },
      "execution_count": 2,
      "outputs": []
    },
    {
      "cell_type": "markdown",
      "source": [
        "### Ejemplos"
      ],
      "metadata": {
        "id": "0K5U7KRfKrN3"
      }
    },
    {
      "cell_type": "code",
      "source": [
        "agenda = Agenda()\n",
        "agenda.add(matias)\n",
        "agenda.add(martina)\n",
        "agenda.add(jennifer)\n",
        "print('------------------')\n",
        "agenda.sort()\n",
        "agenda.show_all()\n",
        "print('------------------')\n",
        "agenda.sort('last_name')\n",
        "agenda.show_all()"
      ],
      "metadata": {
        "colab": {
          "base_uri": "https://localhost:8080/"
        },
        "id": "_7uotD402ZGU",
        "outputId": "b54338a6-f616-4fae-c337-a82a81b3a89b"
      },
      "execution_count": 12,
      "outputs": [
        {
          "output_type": "stream",
          "name": "stdout",
          "text": [
            "Agregado Matías Carvajal\n",
            "Agregado Martina Cage\n",
            "Agregado Jennifer Tapia\n",
            "------------------\n",
            "Jennifer Tapia\n",
            "Martina Cage\n",
            "Matías Carvajal\n",
            "------------------\n",
            "Martina Cage\n",
            "Matías Carvajal\n",
            "Jennifer Tapia\n"
          ]
        }
      ]
    },
    {
      "cell_type": "code",
      "source": [
        "agenda.remove(agenda.search('+56 9 2222 4444', atribute='number'))\n",
        "agenda.sort()\n",
        "agenda.show_all()"
      ],
      "metadata": {
        "colab": {
          "base_uri": "https://localhost:8080/"
        },
        "id": "rxJB53qroV2t",
        "outputId": "52a884ba-4b1b-4dbe-e5ba-c414b6ad3b28"
      },
      "execution_count": 14,
      "outputs": [
        {
          "output_type": "stream",
          "name": "stdout",
          "text": [
            "Eliminado Jennifer Tapia\n",
            "Martina Cage\n",
            "Matías Carvajal\n"
          ]
        }
      ]
    },
    {
      "cell_type": "markdown",
      "source": [
        "## 3. Pruebas aleatorias"
      ],
      "metadata": {
        "id": "527brx8EFoQE"
      }
    },
    {
      "cell_type": "markdown",
      "source": [
        "### Librerías necesarias"
      ],
      "metadata": {
        "id": "oskeznZ7LGE1"
      }
    },
    {
      "cell_type": "code",
      "source": [
        "!pip install faker\n",
        "from faker import Faker\n",
        "from google.colab.output import clear\n",
        "import random\n",
        "from time import time\n",
        "import numpy as np\n",
        "clear()"
      ],
      "metadata": {
        "id": "G5GE5p1yLJtv"
      },
      "execution_count": 3,
      "outputs": []
    },
    {
      "cell_type": "markdown",
      "source": [
        "### Ejemplo"
      ],
      "metadata": {
        "id": "N9nzsaOmLN7z"
      }
    },
    {
      "cell_type": "code",
      "source": [
        "fake = Faker('es_CL')\n",
        "contact = Contact(fake.first_name(), fake.last_name() + ' ' + fake.last_name(), fake.email(), fake.phone_number())\n",
        "contact.show()"
      ],
      "metadata": {
        "colab": {
          "base_uri": "https://localhost:8080/"
        },
        "id": "aCqjSJqRuxK7",
        "outputId": "d2f98e42-7cc0-49dd-f066-5fb8c7ac598e"
      },
      "execution_count": null,
      "outputs": [
        {
          "output_type": "stream",
          "name": "stdout",
          "text": [
            "name: Jorge\n",
            "last_name: Aguilera Sandoval\n",
            "mail: hugofarias@example.net\n",
            "number: +56 600 633 634\n"
          ]
        }
      ]
    },
    {
      "cell_type": "markdown",
      "source": [
        "### Pruebas de rendimiento"
      ],
      "metadata": {
        "id": "4jpq33sgLPh3"
      }
    },
    {
      "cell_type": "code",
      "source": [
        "agenda_fake = Agenda()\n",
        "identities, numbers, mails = [], [], []\n",
        "n = 1000\n",
        "fake = Faker('es_CL')\n",
        "for i in range(n):\n",
        "    fn, ln = fake.first_name(), fake.last_name() + ' ' + fake.last_name()\n",
        "    m, n = fake.email(), fake.phone_number()\n",
        "    contact = Contact(fn, ln, m, n)\n",
        "    agenda_fake.add(contact)\n",
        "    identities.append(fn + ' ' + ln)\n",
        "    mails.append(m)\n",
        "    numbers.append(n)\n",
        "    clear()\n",
        "print('tamaño de agenda =', agenda_fake.num_contacts)\n",
        "iteraciones = 10\n",
        "print('iteraciones =', iteraciones)"
      ],
      "metadata": {
        "colab": {
          "base_uri": "https://localhost:8080/"
        },
        "id": "Hoh9Sie2wj37",
        "outputId": "61deb8ec-b6ce-4dfa-999c-62f78f5f4dfd"
      },
      "execution_count": null,
      "outputs": [
        {
          "output_type": "stream",
          "name": "stdout",
          "text": [
            "tamaño de agenda = 1000\n",
            "iteraciones = 10\n"
          ]
        }
      ]
    },
    {
      "cell_type": "markdown",
      "source": [
        "#### Prueba de busqueda"
      ],
      "metadata": {
        "id": "CZc308xtLUtZ"
      }
    },
    {
      "cell_type": "code",
      "source": [
        "times = []\n",
        "for i in range(iteraciones):\n",
        "    random.shuffle(identities)\n",
        "    t0 = time()\n",
        "    for key in identities:\n",
        "        agenda_fake.search(key)\n",
        "    clear()\n",
        "    times.append(time() - t0)\n",
        "print(times)\n",
        "print('tiempo =', np.around(np.mean(times), 4), '+/-', np.around(np.std(times), 4), '[s]')"
      ],
      "metadata": {
        "colab": {
          "base_uri": "https://localhost:8080/"
        },
        "id": "N7FQo_0a0_z1",
        "outputId": "ab9bef0e-9df3-4a29-c49f-38d31c55eb9d"
      },
      "execution_count": null,
      "outputs": [
        {
          "output_type": "stream",
          "name": "stdout",
          "text": [
            "[1.8658671379089355, 2.817600727081299, 2.6000099182128906, 1.882678747177124, 1.4140827655792236, 0.701030969619751, 0.6566963195800781, 0.7033777236938477, 0.6647992134094238, 0.7036473751068115]\n",
            "tiempo = 1.401 +/- 0.8032 [s]\n"
          ]
        }
      ]
    },
    {
      "cell_type": "markdown",
      "source": [
        "#### Prueba de busqueada por atributo"
      ],
      "metadata": {
        "id": "6Lv7Kz1RLYSY"
      }
    },
    {
      "cell_type": "code",
      "source": [
        "times = []\n",
        "for i in range(iteraciones):\n",
        "    random.shuffle(numbers)\n",
        "    t0 = time()\n",
        "    for number in numbers:\n",
        "        agenda_fake.search(number, atribute='number')\n",
        "    clear()\n",
        "    times.append(time() - t0)\n",
        "print(times)\n",
        "print('tiempo =', np.around(np.mean(times), 4), '+/-', np.around(np.std(times), 4), '[s]')"
      ],
      "metadata": {
        "colab": {
          "base_uri": "https://localhost:8080/"
        },
        "id": "fx-TNq7G2hjk",
        "outputId": "d37c5d73-24a4-49bd-dcab-e829c9e7fdc0"
      },
      "execution_count": null,
      "outputs": [
        {
          "output_type": "stream",
          "name": "stdout",
          "text": [
            "[0.7737200260162354, 0.8604528903961182, 0.8787684440612793, 0.7672066688537598, 0.4650840759277344, 0.4692678451538086, 0.44786596298217773, 0.46641087532043457, 0.45586609840393066, 0.4663865566253662]\n",
            "tiempo = 0.6051 +/- 0.1784 [s]\n"
          ]
        }
      ]
    },
    {
      "cell_type": "code",
      "source": [
        "times = []\n",
        "for i in range(iteraciones):\n",
        "    random.shuffle(mails)\n",
        "    t0 = time()\n",
        "    for mail in mails:\n",
        "        agenda_fake.search(mail, atribute='mail')\n",
        "    clear()\n",
        "    times.append(time() - t0)\n",
        "print(times)\n",
        "print('tiempo =', np.around(np.mean(times), 4), '+/-', np.around(np.std(times), 4), '[s]')"
      ],
      "metadata": {
        "colab": {
          "base_uri": "https://localhost:8080/"
        },
        "id": "2fVYoLi-2qa7",
        "outputId": "cc13d3ff-6162-4517-d6a4-311363e09174"
      },
      "execution_count": null,
      "outputs": [
        {
          "output_type": "stream",
          "name": "stdout",
          "text": [
            "[0.3638887405395508, 0.36444616317749023, 0.3499722480773926, 0.35368871688842773, 0.3538069725036621, 0.34093737602233887, 0.3572208881378174, 0.34528303146362305, 0.35176849365234375, 0.34157299995422363]\n",
            "tiempo = 0.3523 +/- 0.0078 [s]\n"
          ]
        }
      ]
    },
    {
      "cell_type": "markdown",
      "source": [
        "#### Prueba de eliminación"
      ],
      "metadata": {
        "id": "1w_lLwKULb0i"
      }
    },
    {
      "cell_type": "code",
      "source": [
        "times, tamaños = [], []\n",
        "fake = Faker('es_CL')\n",
        "agenda_fake = Agenda()\n",
        "\n",
        "for i in range(iteraciones):\n",
        "    # agregar\n",
        "    identities = []\n",
        "    for i in range(1000):\n",
        "        fn, ln = fake.first_name(), fake.last_name() + ' ' + fake.last_name()\n",
        "        agenda_fake.add(Contact(fn, ln, fake.email(), fake.phone_number()))\n",
        "        identities.append(fn + ' ' + ln)\n",
        "        clear()\n",
        "    tamaños.append(agenda_fake.num_contacts)\n",
        "\n",
        "    # remover\n",
        "    t0 = time()\n",
        "    for key in identities:\n",
        "        agenda_fake.remove(key)\n",
        "    clear()\n",
        "    times.append(time() - t0)\n",
        "    assert agenda_fake.num_contacts == 0\n",
        "\n",
        "# mostrar resultados\n",
        "print(times)\n",
        "print(tamaños)\n",
        "print('tiempo =', np.around(np.mean(times), 4), '+/-', np.around(np.std(times), 4), '[s]')"
      ],
      "metadata": {
        "colab": {
          "base_uri": "https://localhost:8080/"
        },
        "id": "W7l30v4RzFxH",
        "outputId": "4d2b59ee-d887-41f5-b349-b89f1e796231"
      },
      "execution_count": null,
      "outputs": [
        {
          "output_type": "stream",
          "name": "stdout",
          "text": [
            "[0.05739092826843262, 0.05368852615356445, 0.185380220413208, 0.08695793151855469, 0.19431543350219727, 0.15390348434448242, 0.04285740852355957, 0.035454750061035156, 0.044428110122680664, 0.05544924736022949]\n",
            "[1000, 1000, 1000, 1000, 1000, 999, 1000, 999, 1000, 1000]\n",
            "tiempo = 0.091 +/- 0.0591 [s]\n"
          ]
        }
      ]
    },
    {
      "cell_type": "markdown",
      "source": [
        "#### Prueba de inserción"
      ],
      "metadata": {
        "id": "bmLnkXPbQXeA"
      }
    },
    {
      "cell_type": "code",
      "source": [
        "times, tamaños = [], []\n",
        "fake = Faker('es_CL')\n",
        "agenda_fake = Agenda()\n",
        "\n",
        "for i in range(iteraciones):\n",
        "    # generar\n",
        "    fns, lns, ms, ns = [], [], [], []\n",
        "    for i in range(1000):\n",
        "        fn, ln = fake.first_name(), fake.last_name() + ' ' + fake.last_name()\n",
        "        m, n = fake.email(), fake.phone_number()\n",
        "        fns.append(fn)\n",
        "        lns.append(ln)\n",
        "        ms.append(m)\n",
        "        ns.append(n)\n",
        "\n",
        "    # agregar\n",
        "    t0 = time()\n",
        "    for i in range(len(fns)):\n",
        "        agenda_fake.add(Contact(fn, ln, m, n))\n",
        "        identities.append(fn + ' ' + ln)\n",
        "        clear()\n",
        "    times.append(time() - t0)\n",
        "    tamaños.append(len(fns))\n",
        "\n",
        "# mostrar resultados\n",
        "print(times)\n",
        "print(tamaños)\n",
        "print('tiempo =', np.around(np.mean(times), 4), '+/-', np.around(np.std(times), 4), '[s]')"
      ],
      "metadata": {
        "colab": {
          "base_uri": "https://localhost:8080/"
        },
        "id": "cteWgCTZQZ4_",
        "outputId": "630ca016-5a75-4afe-af65-5ab8f4ff2469"
      },
      "execution_count": null,
      "outputs": [
        {
          "output_type": "stream",
          "name": "stdout",
          "text": [
            "[3.866295099258423, 3.7419674396514893, 3.886624813079834, 3.0372323989868164, 3.4274120330810547, 4.292628049850464, 3.8733067512512207, 3.3852293491363525, 3.582124948501587, 3.8728749752044678]\n",
            "[1000, 1000, 1000, 1000, 1000, 1000, 1000, 1000, 1000, 1000]\n",
            "tiempo = 3.6966 +/- 0.3319 [s]\n"
          ]
        }
      ]
    },
    {
      "cell_type": "markdown",
      "source": [
        "#### Prueba de ordenación"
      ],
      "metadata": {
        "id": "8wcz8fA4SCIw"
      }
    },
    {
      "cell_type": "code",
      "source": [
        "times, times1, tamaños = [], [], []\n",
        "fake = Faker('es_CL')\n",
        "\n",
        "for i in range(iteraciones):\n",
        "    agenda_fake = Agenda()\n",
        "\n",
        "    # agregar\n",
        "    for i in range(1000):\n",
        "        fn, ln = fake.first_name(), fake.last_name() + ' ' + fake.last_name()\n",
        "        agenda_fake.add(Contact(fn, ln, fake.email(), fake.phone_number()))\n",
        "        clear()\n",
        "    tamaños.append(agenda_fake.num_contacts)\n",
        "\n",
        "    # ordenar por identidad\n",
        "    t0 = time()\n",
        "    agenda_fake.sort()\n",
        "    times.append(time() - t0)\n",
        "\n",
        "    # ordenar por atributo\n",
        "    t1 = time()\n",
        "    agenda_fake.sort(atribute='mail')\n",
        "    times1.append(time() - t1)\n",
        "\n",
        "# mostrar resultados\n",
        "print(times)\n",
        "print(times1)\n",
        "print(tamaños)\n",
        "print('tiempo (identidad) =', np.around(np.mean(times), 4), '+/-', np.around(np.std(times), 4), '[s]')\n",
        "print('tiempo (atributo) =', np.around(np.mean(times1), 4), '+/-', np.around(np.std(times1), 4), '[s]')"
      ],
      "metadata": {
        "colab": {
          "base_uri": "https://localhost:8080/"
        },
        "id": "qeK5YsoBSRon",
        "outputId": "eeab301a-30dd-4dfe-d1f3-cb84da7c90d3"
      },
      "execution_count": null,
      "outputs": [
        {
          "output_type": "stream",
          "name": "stdout",
          "text": [
            "[0.0022950172424316406, 0.0011570453643798828, 0.0009338855743408203, 0.0010826587677001953, 0.0010304450988769531, 0.001100778579711914, 0.0009715557098388672, 0.0010623931884765625, 0.0011053085327148438, 0.002024412155151367]\n",
            "[0.0033102035522460938, 0.003470897674560547, 0.0013821125030517578, 0.0015773773193359375, 0.0014646053314208984, 0.001636505126953125, 0.0014801025390625, 0.0015785694122314453, 0.001523733139038086, 0.00244903564453125]\n",
            "[999, 1000, 1000, 1000, 1000, 1000, 999, 1000, 1000, 999]\n",
            "tiempo (identidad) = 0.0013 +/- 0.0005 [s]\n",
            "tiempo (atributo) = 0.002 +/- 0.0008 [s]\n"
          ]
        }
      ]
    },
    {
      "cell_type": "markdown",
      "source": [
        "## 4. Memoria"
      ],
      "metadata": {
        "id": "ExdTtWJ1mLIo"
      }
    },
    {
      "cell_type": "code",
      "source": [
        "import pickle\n",
        "import os\n",
        "import sys"
      ],
      "metadata": {
        "id": "If8CzfiXptak"
      },
      "execution_count": 4,
      "outputs": []
    },
    {
      "cell_type": "code",
      "source": [
        "agenda_fake = Agenda()\n",
        "identities, numbers, mails = [], [], []\n",
        "n = 10000\n",
        "fake = Faker('es_CL')\n",
        "for i in range(n):\n",
        "    fn, ln = fake.first_name(), fake.last_name() + ' ' + fake.last_name()\n",
        "    m, n = fake.email(), fake.phone_number()\n",
        "    contact = Contact(fn, ln, m, n)\n",
        "    agenda_fake.add(contact)\n",
        "    identities.append(fn + ' ' + ln)\n",
        "    mails.append(m)\n",
        "    numbers.append(n)\n",
        "    clear()\n",
        "print('tamaño de agenda =', agenda_fake.num_contacts)\n",
        "contacts = agenda_fake.contacts"
      ],
      "metadata": {
        "colab": {
          "base_uri": "https://localhost:8080/"
        },
        "id": "1KuDCC19SSoK",
        "outputId": "c3c8c0f9-2a54-425d-e16a-8138de8c2c58"
      },
      "execution_count": 5,
      "outputs": [
        {
          "output_type": "stream",
          "name": "stdout",
          "text": [
            "tamaño de agenda = 9986\n"
          ]
        }
      ]
    },
    {
      "cell_type": "code",
      "source": [
        "# guardar\n",
        "t0 = time()\n",
        "with open(\"memory.pkl\", \"wb\") as file:\n",
        "    pickle.dump(agenda_fake, file)\n",
        "print('tiempo de guardado =', round(time() - t0, 4), '[s]')\n",
        "\n",
        "# leer\n",
        "t1 = time()\n",
        "with open(\"memory.pkl\", \"rb\") as file:\n",
        "    memory = pickle.load(file)\n",
        "print('tiempo de lectura =', round(time() - t1, 4), '[s]')\n",
        "\n",
        "# cargar\n",
        "t2 = time()\n",
        "agenda_new = memory\n",
        "print('tiempo de carga =', round(time() - t2, 4), '[s]')\n",
        "\n",
        "# tamaño\n",
        "size = os.path.getsize(\"memory.pkl\")\n",
        "print(f\"Tamaño del archivo = {size / (1024 ** 2):.6f} MB.\")\n",
        "\n",
        "# tamaño en uso\n",
        "size_use = sys.getsizeof(memory)\n",
        "print(f\"Tamaño en memoria = {size / (1024 ** 2):.6f} MB.\")\n",
        "\n",
        "assert len(agenda_new.contacts) == agenda_fake.num_contacts"
      ],
      "metadata": {
        "colab": {
          "base_uri": "https://localhost:8080/"
        },
        "id": "MW6YNzNwpgIN",
        "outputId": "634d6a19-e276-4b77-acee-7bb286a23dc9"
      },
      "execution_count": 8,
      "outputs": [
        {
          "output_type": "stream",
          "name": "stdout",
          "text": [
            "tiempo de guardado = 0.0349 [s]\n",
            "tiempo de lectura = 0.1079 [s]\n",
            "tiempo de carga = 0.0001 [s]\n",
            "Tamaño del archivo = 1.163531 MB.\n",
            "Tamaño en memoria = 1.163531 MB.\n"
          ]
        }
      ]
    }
  ]
}